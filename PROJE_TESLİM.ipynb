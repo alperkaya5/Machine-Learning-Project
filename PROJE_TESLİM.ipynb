{
  "nbformat": 4,
  "nbformat_minor": 0,
  "metadata": {
    "colab": {
      "private_outputs": true,
      "provenance": [],
      "collapsed_sections": []
    },
    "kernelspec": {
      "name": "python3",
      "display_name": "Python 3"
    },
    "language_info": {
      "name": "python"
    }
  },
  "cells": [
    {
      "cell_type": "code",
      "source": [
        "!pip install pandas\n",
        "!pip install librosa\n",
        "!pip install plotly\n",
        "!pip install matplotlib\n",
        "!pip install mutagen\n",
        "!pip install pillow"
      ],
      "metadata": {
        "id": "V2Jh2NwMDaYH"
      },
      "execution_count": null,
      "outputs": []
    },
    {
      "cell_type": "code",
      "execution_count": null,
      "metadata": {
        "id": "GHab1zZ3-8ry"
      },
      "outputs": [],
      "source": [
        "import tensorflow as tf"
      ]
    },
    {
      "cell_type": "code",
      "source": [
        "import pandas as pd\n",
        "import numpy as np\n",
        "import matplotlib.pyplot as plt\n",
        "import librosa\n",
        "import os\n",
        "from tqdm import tqdm"
      ],
      "metadata": {
        "id": "_wlWmb6D_C7F"
      },
      "execution_count": null,
      "outputs": []
    },
    {
      "cell_type": "code",
      "source": [
        "from sklearn.model_selection import train_test_split \n",
        "from sklearn.preprocessing import LabelEncoder\n",
        "from tensorflow.keras.utils import to_categorical\n",
        "from tensorflow.keras.models import Sequential\n",
        "from tensorflow.keras.layers import Dense , Dropout , Activation , Flatten\n",
        "from tensorflow.keras.optimizers import Adam"
      ],
      "metadata": {
        "id": "Cg6U4cDV_HLI"
      },
      "execution_count": null,
      "outputs": []
    },
    {
      "cell_type": "code",
      "source": [
        "from sklearn import metrics \n",
        "from tensorflow.keras.callbacks import ModelCheckpoint\n",
        "from datetime import datetime"
      ],
      "metadata": {
        "id": "g4W_9plz_LPO"
      },
      "execution_count": null,
      "outputs": []
    },
    {
      "cell_type": "code",
      "source": [
        "import librosa\n",
        "audio_file_path='/content/drive/MyDrive/02-Urban8k-grup6/audio/fold3/103199-4-2-8.wav'\n",
        "librosa_audio_data,librosa_sample_rate=librosa.load(audio_file_path)"
      ],
      "metadata": {
        "id": "JCTR_xkb_OuE"
      },
      "execution_count": null,
      "outputs": []
    },
    {
      "cell_type": "code",
      "source": [
        "print(librosa_audio_data)"
      ],
      "metadata": {
        "id": "w1r31U3Q_b4t"
      },
      "execution_count": null,
      "outputs": []
    },
    {
      "cell_type": "code",
      "source": [
        "librosa_audio_data"
      ],
      "metadata": {
        "id": "N2MJ2OyC_d5J"
      },
      "execution_count": null,
      "outputs": []
    },
    {
      "cell_type": "code",
      "source": [
        "plt.figure(figsize=(12,4))\n",
        "plt.plot(librosa_audio_data)\n",
        "plt.show()"
      ],
      "metadata": {
        "id": "3xR4jCUA_fvL"
      },
      "execution_count": null,
      "outputs": []
    },
    {
      "cell_type": "code",
      "source": [
        "from IPython.display import Audio\n",
        "Audio('/content/drive/MyDrive/02-Urban8k-grup6/audio/fold3/103199-4-2-8.wav')"
      ],
      "metadata": {
        "id": "QRACNq19_iuR"
      },
      "execution_count": null,
      "outputs": []
    },
    {
      "cell_type": "code",
      "source": [
        "mfccs=librosa.feature.mfcc(y=librosa_audio_data, sr=librosa_sample_rate, n_mfcc=40)"
      ],
      "metadata": {
        "id": "LysmKhIg_ozm"
      },
      "execution_count": null,
      "outputs": []
    },
    {
      "cell_type": "code",
      "source": [
        "mfccs.shape"
      ],
      "metadata": {
        "id": "V0dNQbuI_s4P"
      },
      "execution_count": null,
      "outputs": []
    },
    {
      "cell_type": "code",
      "source": [
        "audio_dataset_path='/content/drive/MyDrive/02-Urban8k-grup6/audio'\n",
        "metadata=pd.read_csv('/content/drive/MyDrive/02-Urban8k-grup6/metadata/UrbanSound8K.csv')\n",
        "metadata.head()"
      ],
      "metadata": {
        "id": "IRLt0--W_vmx"
      },
      "execution_count": null,
      "outputs": []
    },
    {
      "cell_type": "code",
      "source": [
        "def create_dataset_df(csv_file):\n",
        "    dataset_df = pd.read_csv(csv_file)\n",
        "    filepaths = []\n",
        "    for i, row in dataset_df.iterrows():\n",
        "        filepaths.append(os.path.join('/content/drive/MyDrive/02-Urban8k-grup6', 'fold'+str(row['fold']), row['slice_file_name']))\n",
        "    dataset_df['filepath'] = filepaths\n",
        "    return dataset_df"
      ],
      "metadata": {
        "id": "gKqmQbyb_-Lr"
      },
      "execution_count": null,
      "outputs": []
    },
    {
      "cell_type": "code",
      "source": [
        "def feature_extractor(csv_file):\n",
        "    audio,sample_rate=librosa.load(file_name,res_type='kaiser_fast')\n",
        "    mfccs_features=librosa.feature.mfcc(y=audio,sr=sample_rate,n_mfcc=40)\n",
        "    mfcss_scaled_features=np.mean(mfccs_features.T,axis=0)\n",
        "\n",
        "    return mfcss_scaled_features"
      ],
      "metadata": {
        "id": "bXzlsJviGtsa"
      },
      "execution_count": null,
      "outputs": []
    },
    {
      "cell_type": "code",
      "source": [
        "  extracted_features= []\n",
        "\n",
        "for index_num,row in tqdm(metadata.iterrows()):\n",
        "    file_name=os.path.join(os.path.abspath(audio_dataset_path),'/content/drive/MyDrive/02-Urban8k-grup6/audio', 'fold' +str(row['fold'])+'/',str(row['slice_file_name'])) \n",
        "    final_class_labels = row['class']   \n",
        "    data=feature_extractor=(file_name)\n",
        "    extracted_features.append([data,final_class_labels])"
      ],
      "metadata": {
        "id": "QpTfCLXBHb6N"
      },
      "execution_count": null,
      "outputs": []
    },
    {
      "cell_type": "code",
      "source": [
        "extracted_features_df=pd.DataFrame(extracted_features,columns=[\"features\",\"class\"])\n",
        "extracted_features_df.head()"
      ],
      "metadata": {
        "id": "dGNqgbZTHoZz"
      },
      "execution_count": null,
      "outputs": []
    },
    {
      "cell_type": "code",
      "source": [
        "extracted_features_df.tail()"
      ],
      "metadata": {
        "id": "ZSl09biYH_Lm"
      },
      "execution_count": null,
      "outputs": []
    },
    {
      "cell_type": "code",
      "source": [
        "x=np.array(extracted_features_df['features'].tolist())\n",
        "y=np.array(extracted_features_df['class'].tolist())"
      ],
      "metadata": {
        "id": "O1biyVTVILoF"
      },
      "execution_count": null,
      "outputs": []
    },
    {
      "cell_type": "code",
      "source": [
        "x.shape\n"
      ],
      "metadata": {
        "id": "kY8_vScqIqmb"
      },
      "execution_count": null,
      "outputs": []
    },
    {
      "cell_type": "code",
      "source": [
        "y.shape"
      ],
      "metadata": {
        "id": "WH84NBAtIvO0"
      },
      "execution_count": null,
      "outputs": []
    },
    {
      "cell_type": "code",
      "source": [
        "labelencoder=LabelEncoder()\n",
        "y=to_categorical(labelencoder.fit_transform(y))"
      ],
      "metadata": {
        "id": "pbSZ3KPxI4vS"
      },
      "execution_count": null,
      "outputs": []
    },
    {
      "cell_type": "code",
      "source": [
        "y"
      ],
      "metadata": {
        "id": "yWvAVJ7CJJGn"
      },
      "execution_count": null,
      "outputs": []
    },
    {
      "cell_type": "code",
      "source": [
        "xtrain,xtest,ytrain,ytest=train_test_split(x,y,test_size=0.2,random_state=0)"
      ],
      "metadata": {
        "id": "i_B0tkzjJZ-V"
      },
      "execution_count": null,
      "outputs": []
    },
    {
      "cell_type": "code",
      "source": [
        "xtrain"
      ],
      "metadata": {
        "id": "xvpc3yYnJzVQ"
      },
      "execution_count": null,
      "outputs": []
    },
    {
      "cell_type": "code",
      "source": [
        "num_labels=10"
      ],
      "metadata": {
        "id": "D6msNmy0KyFq"
      },
      "execution_count": null,
      "outputs": []
    },
    {
      "cell_type": "code",
      "source": [
        "model = Sequential()\n",
        "\n",
        "model.add(Dense(125, input_shape=(40,)))\n",
        "model.add(Activation('relu'))\n",
        "model.add(Dropout(0.5))\n",
        "\n",
        "model.add(Dense(250))\n",
        "model.add(Activation('relu'))\n",
        "model.add(Dropout(0.5))\n",
        "model.add(Dense(125))\n",
        "model.add(Activation('relu'))\n",
        "model.add(Dropout(0.5))\n",
        "\n",
        "\n",
        "model.add(Dense(num_labels))\n",
        "model.add(Activation('softmax'))\n"
      ],
      "metadata": {
        "id": "hNaSX398LCVh"
      },
      "execution_count": null,
      "outputs": []
    },
    {
      "cell_type": "code",
      "source": [
        "model.summary()\n"
      ],
      "metadata": {
        "id": "pdCehHDELUZn"
      },
      "execution_count": null,
      "outputs": []
    },
    {
      "cell_type": "code",
      "source": [
        "model.compile(loss=\"categorical_crossentropy\",metrics=[\"accuracy\"],optimizer=\"adam\")\n"
      ],
      "metadata": {
        "id": "abv1UzypLYOl"
      },
      "execution_count": null,
      "outputs": []
    },
    {
      "cell_type": "code",
      "source": [
        "num_epochs = 150\n",
        "num_batch_size = 32\n",
        "\n",
        "model.fit(\n",
        "          xtrain, \n",
        "          ytrain, \n",
        "          batch_size=num_batch_size, \n",
        "          epochs=num_epochs,\n",
        "          validation_data=(xtest, ytest),verbose=1\n",
        "         )\n",
        "# Maalesef bu noktada tıkandım ve daha ileriye gidemiyorum. Amacım oluşturduğum test oranınından yapılan tahminde \n",
        "# en yüksek orana sahip olanın görselle süslenip\n",
        "# sesiyle beraber  ekrana yansıymasıydı. Urban8k yı Drive'a yükleme konusunda sıkıntı yaşadım çok uzun sürüyordu.\n",
        "#Bir yerden drive paylaşımından kısayol ile kendi driveıma taşıdım. Ama üzerinde işlem yapamadığım için sıkıntı yaşamaktayım\n",
        "#  ve maalesef kendim drive a kurucak kadar sürem de kalmadı çünkü discord üzerinden oluşturduğumuz grupta ki arkadaşlar hiç bir şekilde projeye katılmadılar.\n",
        "# kendilerine projeye başlamamız gerektiği konusunda iletişimde bulunmama rağmen herhangi bir geri dönüş alamadım.bu yüzden herhangi bir destek alamadım ve projeyi kendi başıma\n",
        "#yapmaya çalıştım.   \n"
      ],
      "metadata": {
        "id": "dbudKyjuMCPX"
      },
      "execution_count": null,
      "outputs": []
    }
  ]
}